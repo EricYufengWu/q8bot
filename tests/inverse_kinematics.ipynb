{
 "cells": [
  {
   "cell_type": "code",
   "execution_count": 2,
   "metadata": {},
   "outputs": [],
   "source": [
    "import math\n",
    "import numpy as np\n",
    "from scipy.optimize import fsolve"
   ]
  },
  {
   "cell_type": "markdown",
   "metadata": {},
   "source": [
    "<div>\n",
    "<img src=\"../q8bot_documentation/IK_diagram_1.jpg\" width=\"540\"/>\n",
    "</div>"
   ]
  },
  {
   "cell_type": "markdown",
   "metadata": {},
   "source": [
    "For inverse kinematics, we have the x, y coordinates of point C and need the value of q1 and q2. To do that, we need to find α1, α2, β1, β2 separately.\n",
    "\n",
    "First, we canculate the distance between two points in the xy plance to get c1 and c2:\n",
    "\n",
    "$c_1 = \\sqrt{(x - x_D)^2 + (y - y_D)^2}$\n",
    "\n",
    "$c_1 = \\sqrt{(x - d)^2 + y^2}$    &emsp;&emsp;&emsp;&emsp;&emsp;&emsp;&emsp;(1)\n",
    "\n",
    "$c_2 = \\sqrt{(x - x_O)^2 + (y - y_O)^2}$\n",
    "\n",
    "$c_2 = \\sqrt{x^2 + y^2}$    &emsp;&emsp;&emsp;&emsp;&emsp;&emsp;&emsp;&emsp;&emsp;&emsp;(2)"
   ]
  },
  {
   "cell_type": "code",
   "execution_count": 6,
   "metadata": {},
   "outputs": [
    {
     "data": {
      "text/plain": [
       "(41.11265012134343, 41.23105625617661)"
      ]
     },
     "execution_count": 6,
     "metadata": {},
     "output_type": "execute_result"
    }
   ],
   "source": [
    "x = 10\n",
    "y = 40\n",
    "d = 19.5\n",
    "\n",
    "c1 = math.sqrt((x - d)**2 + y**2)\n",
    "c2 = math.sqrt(x**2 + y**2)\n",
    "\n",
    "c1, c2"
   ]
  },
  {
   "cell_type": "markdown",
   "metadata": {},
   "source": [
    "With c1, c2, and d known, we can use the law of cosines to calculate α1 and α2.\n",
    "\n",
    "$c_2^2 = c_1^2 + d^2 - 2c_1d\\cdot cos(α_1)$\n",
    "\n",
    "$α_1 = cos^{-1}({c_1^2 + d^2 - c_2^2 \\over 2c_1d})$ &emsp;&emsp;&emsp;&emsp;&emsp;&emsp;&emsp;&emsp;(3)\n",
    "\n",
    "$c_1^2 = c_2^2 + d^2 - 2c_2d\\cdot cos(α_2)$\n",
    "\n",
    "$α_2 = cos^{-1}({c_2^2 + d^2 - c_1^2 \\over 2c_2d})$ &emsp;&emsp;&emsp;&emsp;&emsp;&emsp;&emsp;&emsp;(4)"
   ]
  }
 ],
 "metadata": {
  "kernelspec": {
   "display_name": "venv",
   "language": "python",
   "name": "python3"
  },
  "language_info": {
   "codemirror_mode": {
    "name": "ipython",
    "version": 3
   },
   "file_extension": ".py",
   "mimetype": "text/x-python",
   "name": "python",
   "nbconvert_exporter": "python",
   "pygments_lexer": "ipython3",
   "version": "3.11.6"
  }
 },
 "nbformat": 4,
 "nbformat_minor": 2
}
