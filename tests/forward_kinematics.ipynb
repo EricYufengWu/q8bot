{
 "cells": [
  {
   "cell_type": "code",
   "execution_count": 86,
   "metadata": {},
   "outputs": [],
   "source": [
    "import sympy as sym\n",
    "from sympy import S\n",
    "import math\n",
    "sym.init_printing()"
   ]
  },
  {
   "cell_type": "markdown",
   "metadata": {},
   "source": [
    "<div>\n",
    "<img src=\"../q8bot_documentation/FK_diagram_1.jpg\" width=\"360\"/>\n",
    "</div>\n",
    "\n",
    "Let's look at the parallel five-bar linkage up-side down from the robot for a better view.\n",
    "Since q1, q2, l1, l2, l1', l2', and d are known, we can represent point A and point B's coordinates as follow:\n",
    "\n",
    "$x_A = d + l_1cos(q_1)$ &nbsp;&nbsp;&nbsp; (1)\n",
    "\n",
    "$y_A = l_1\\cdot sin(q_1)$ &nbsp;&nbsp;&nbsp;&nbsp;&nbsp;&nbsp;&nbsp;&nbsp; (2)\n",
    "\n",
    "$x_B = l_1^{'}\\cdot cos(q_2)$ &nbsp;&nbsp;&nbsp;&nbsp;&nbsp;&nbsp;&nbsp;&nbsp; (3)\n",
    "\n",
    "$y_B = l_1^{'}\\cdot sin(q_2)$ &nbsp;&nbsp;&nbsp;&nbsp;&nbsp;&nbsp;&nbsp;&nbsp; (4)"
   ]
  },
  {
   "cell_type": "code",
   "execution_count": 87,
   "metadata": {},
   "outputs": [
    {
     "data": {
      "text/latex": [
       "$\\displaystyle \\left\\{ Xa : d + l_{1} \\cos{\\left(q_{1} \\right)}, \\  Xb : l1p \\cos{\\left(q_{2} \\right)}, \\  Ya : l_{1} \\sin{\\left(q_{1} \\right)}, \\  Yb : l1p \\sin{\\left(q_{2} \\right)}\\right\\}$"
      ],
      "text/plain": [
       "{Xa: d + l₁⋅cos(q₁), Xb: l1p⋅cos(q₂), Ya: l₁⋅sin(q₁), Yb: l1p⋅sin(q₂)}"
      ]
     },
     "execution_count": 87,
     "metadata": {},
     "output_type": "execute_result"
    }
   ],
   "source": [
    "X, Y, Xa, Ya, Xb, Yb, q1, q2, l1, l2, l1p, l2p, d = sym.symbols('X, Y, Xa, Ya, Xb, Yb, q1, q2, l1, l2, l1p, l2p, d', real=True)\n",
    "\n",
    "Eq1 = sym.Eq(d+l1*sym.cos(q1), Xa)\n",
    "Eq2 = sym.Eq(  l1*sym.sin(q1), Ya)\n",
    "Eq3 = sym.Eq( l1p*sym.cos(q2), Xb)\n",
    "Eq4 = sym.Eq( l1p*sym.sin(q2), Yb)\n",
    "\n",
    "sym.solve([Eq1,Eq2,Eq3,Eq4], (Xa,Ya,Xb,Yb))"
   ]
  },
  {
   "cell_type": "markdown",
   "metadata": {},
   "source": [
    "<div>\n",
    "<img src=\"../q8bot_documentation/FK_diagram_2.jpg\" width=\"540\"/>\n",
    "</div>\n",
    "\n",
    "To find the coordinate of point C, we can think of it as one of the intersections of two circles in the xy coordinate system. The two circles can be written as:\n",
    "\n",
    "$l_2^2 = (x - x_A)^2 + (y - y_A)^2$    &nbsp;&nbsp;&nbsp;&nbsp; (5)\n",
    "\n",
    "$l_2^{'2} = (x - x_B)^2 + (y - y_B)^2$ &nbsp;&nbsp;&nbsp; (6)"
   ]
  },
  {
   "cell_type": "code",
   "execution_count": 89,
   "metadata": {},
   "outputs": [
    {
     "data": {
      "text/latex": [
       "$\\displaystyle \\left[ \\left( - \\frac{- Xa^{2} + Xb^{2} - Ya^{2} + Yb^{2} + l_{2}^{2} - l2p^{2} + \\left(2 Ya - 2 Yb\\right) \\left(- \\frac{\\sqrt{- \\left(- Xa^{2} + 2 Xa Xb - Xb^{2} - Ya^{2} + 2 Ya Yb - Yb^{2} + l_{2}^{2} - 2 l_{2} l2p + l2p^{2}\\right) \\left(- Xa^{2} + 2 Xa Xb - Xb^{2} - Ya^{2} + 2 Ya Yb - Yb^{2} + l_{2}^{2} + 2 l_{2} l2p + l2p^{2}\\right)} \\left(Xa - Xb\\right)}{2 \\left(Xa^{2} - 2 Xa Xb + Xb^{2} + Ya^{2} - 2 Ya Yb + Yb^{2}\\right)} - \\frac{- Xa^{2} Ya - Xa^{2} Yb + 2 Xa Xb Ya + 2 Xa Xb Yb - Xb^{2} Ya - Xb^{2} Yb - Ya^{3} + Ya^{2} Yb + Ya Yb^{2} + Ya l_{2}^{2} - Ya l2p^{2} - Yb^{3} - Yb l_{2}^{2} + Yb l2p^{2}}{2 \\left(Xa^{2} - 2 Xa Xb + Xb^{2} + Ya^{2} - 2 Ya Yb + Yb^{2}\\right)}\\right)}{2 \\left(Xa - Xb\\right)}, \\  - \\frac{\\sqrt{- \\left(- Xa^{2} + 2 Xa Xb - Xb^{2} - Ya^{2} + 2 Ya Yb - Yb^{2} + l_{2}^{2} - 2 l_{2} l2p + l2p^{2}\\right) \\left(- Xa^{2} + 2 Xa Xb - Xb^{2} - Ya^{2} + 2 Ya Yb - Yb^{2} + l_{2}^{2} + 2 l_{2} l2p + l2p^{2}\\right)} \\left(Xa - Xb\\right)}{2 \\left(Xa^{2} - 2 Xa Xb + Xb^{2} + Ya^{2} - 2 Ya Yb + Yb^{2}\\right)} - \\frac{- Xa^{2} Ya - Xa^{2} Yb + 2 Xa Xb Ya + 2 Xa Xb Yb - Xb^{2} Ya - Xb^{2} Yb - Ya^{3} + Ya^{2} Yb + Ya Yb^{2} + Ya l_{2}^{2} - Ya l2p^{2} - Yb^{3} - Yb l_{2}^{2} + Yb l2p^{2}}{2 \\left(Xa^{2} - 2 Xa Xb + Xb^{2} + Ya^{2} - 2 Ya Yb + Yb^{2}\\right)}\\right), \\  \\left( - \\frac{- Xa^{2} + Xb^{2} - Ya^{2} + Yb^{2} + l_{2}^{2} - l2p^{2} + \\left(2 Ya - 2 Yb\\right) \\left(\\frac{\\sqrt{- \\left(- Xa^{2} + 2 Xa Xb - Xb^{2} - Ya^{2} + 2 Ya Yb - Yb^{2} + l_{2}^{2} - 2 l_{2} l2p + l2p^{2}\\right) \\left(- Xa^{2} + 2 Xa Xb - Xb^{2} - Ya^{2} + 2 Ya Yb - Yb^{2} + l_{2}^{2} + 2 l_{2} l2p + l2p^{2}\\right)} \\left(Xa - Xb\\right)}{2 \\left(Xa^{2} - 2 Xa Xb + Xb^{2} + Ya^{2} - 2 Ya Yb + Yb^{2}\\right)} - \\frac{- Xa^{2} Ya - Xa^{2} Yb + 2 Xa Xb Ya + 2 Xa Xb Yb - Xb^{2} Ya - Xb^{2} Yb - Ya^{3} + Ya^{2} Yb + Ya Yb^{2} + Ya l_{2}^{2} - Ya l2p^{2} - Yb^{3} - Yb l_{2}^{2} + Yb l2p^{2}}{2 \\left(Xa^{2} - 2 Xa Xb + Xb^{2} + Ya^{2} - 2 Ya Yb + Yb^{2}\\right)}\\right)}{2 \\left(Xa - Xb\\right)}, \\  \\frac{\\sqrt{- \\left(- Xa^{2} + 2 Xa Xb - Xb^{2} - Ya^{2} + 2 Ya Yb - Yb^{2} + l_{2}^{2} - 2 l_{2} l2p + l2p^{2}\\right) \\left(- Xa^{2} + 2 Xa Xb - Xb^{2} - Ya^{2} + 2 Ya Yb - Yb^{2} + l_{2}^{2} + 2 l_{2} l2p + l2p^{2}\\right)} \\left(Xa - Xb\\right)}{2 \\left(Xa^{2} - 2 Xa Xb + Xb^{2} + Ya^{2} - 2 Ya Yb + Yb^{2}\\right)} - \\frac{- Xa^{2} Ya - Xa^{2} Yb + 2 Xa Xb Ya + 2 Xa Xb Yb - Xb^{2} Ya - Xb^{2} Yb - Ya^{3} + Ya^{2} Yb + Ya Yb^{2} + Ya l_{2}^{2} - Ya l2p^{2} - Yb^{3} - Yb l_{2}^{2} + Yb l2p^{2}}{2 \\left(Xa^{2} - 2 Xa Xb + Xb^{2} + Ya^{2} - 2 Ya Yb + Yb^{2}\\right)}\\right)\\right]$"
      ],
      "text/plain": [
       "⎡⎛ ⎛                                                     ⎛     _______________\n",
       "⎢⎜ ⎜                                                     ⎜    ╱  ⎛    2       \n",
       "⎢⎜ ⎜    2     2     2     2     2      2                 ⎜  ╲╱  -⎝- Xa  + 2⋅Xa\n",
       "⎢⎜-⎜- Xa  + Xb  - Ya  + Yb  + l₂  - l2p  + (2⋅Ya - 2⋅Yb)⋅⎜- ──────────────────\n",
       "⎢⎜ ⎜                                                     ⎜                    \n",
       "⎢⎜ ⎝                                                     ⎝                    \n",
       "⎢⎜────────────────────────────────────────────────────────────────────────────\n",
       "⎢⎜                                                                            \n",
       "⎣⎝                                                                            \n",
       "\n",
       "______________________________________________________________________________\n",
       "        2     2               2     2                 2⎞ ⎛    2               \n",
       "⋅Xb - Xb  - Ya  + 2⋅Ya⋅Yb - Yb  + l₂  - 2⋅l₂⋅l2p + l2p ⎠⋅⎝- Xa  + 2⋅Xa⋅Xb - Xb\n",
       "──────────────────────────────────────────────────────────────────────────────\n",
       "                                       ⎛  2               2     2             \n",
       "                                     2⋅⎝Xa  - 2⋅Xa⋅Xb + Xb  + Ya  - 2⋅Ya⋅Yb + \n",
       "──────────────────────────────────────────────────────────────────────────────\n",
       "                                                                              \n",
       "                                                                              \n",
       "\n",
       "_________________________________________________                             \n",
       "2     2               2     2                 2⎞                  2        2  \n",
       "  - Ya  + 2⋅Ya⋅Yb - Yb  + l₂  + 2⋅l₂⋅l2p + l2p ⎠ ⋅(Xa - Xb)   - Xa ⋅Ya - Xa ⋅Y\n",
       "─────────────────────────────────────────────────────────── - ────────────────\n",
       "  2⎞                                                                          \n",
       "Yb ⎠                                                                          \n",
       "──────────────────────────────────────────────────────────────────────────────\n",
       "              2⋅(Xa - Xb)                                                     \n",
       "                                                                              \n",
       "\n",
       "                                                                              \n",
       "                                2        2        3     2           2        2\n",
       "b + 2⋅Xa⋅Xb⋅Ya + 2⋅Xa⋅Xb⋅Yb - Xb ⋅Ya - Xb ⋅Yb - Ya  + Ya ⋅Yb + Ya⋅Yb  + Ya⋅l₂ \n",
       "──────────────────────────────────────────────────────────────────────────────\n",
       "                            ⎛  2               2     2               2⎞       \n",
       "                          2⋅⎝Xa  - 2⋅Xa⋅Xb + Xb  + Ya  - 2⋅Ya⋅Yb + Yb ⎠       \n",
       "──────────────────────────────────────────────────────────────────────────────\n",
       "                                                                              \n",
       "                                                                              \n",
       "\n",
       "                                   ⎞⎞                                         \n",
       "         2     3        2         2⎟⎟                                         \n",
       " - Ya⋅l2p  - Yb  - Yb⋅l₂  + Yb⋅l2p ⎟⎟                                         \n",
       "───────────────────────────────────⎟⎟        _________________________________\n",
       "                                   ⎟⎟       ╱  ⎛    2               2     2   \n",
       "                                   ⎠⎠     ╲╱  -⎝- Xa  + 2⋅Xa⋅Xb - Xb  - Ya  + \n",
       "──────────────────────────────────────, - ────────────────────────────────────\n",
       "                                                                              \n",
       "                                                                              \n",
       "\n",
       "                                                                              \n",
       "                                                                              \n",
       "                                                                              \n",
       "______________________________________________________________________________\n",
       "            2     2                 2⎞ ⎛    2               2     2           \n",
       "2⋅Ya⋅Yb - Yb  + l₂  - 2⋅l₂⋅l2p + l2p ⎠⋅⎝- Xa  + 2⋅Xa⋅Xb - Xb  - Ya  + 2⋅Ya⋅Yb \n",
       "──────────────────────────────────────────────────────────────────────────────\n",
       "                     ⎛  2               2     2               2⎞              \n",
       "                   2⋅⎝Xa  - 2⋅Xa⋅Xb + Xb  + Ya  - 2⋅Ya⋅Yb + Yb ⎠              \n",
       "\n",
       "                                                                              \n",
       "                                                                              \n",
       "                                                                              \n",
       "_______________________________                                               \n",
       "    2     2                 2⎞                  2        2                    \n",
       "- Yb  + l₂  + 2⋅l₂⋅l2p + l2p ⎠ ⋅(Xa - Xb)   - Xa ⋅Ya - Xa ⋅Yb + 2⋅Xa⋅Xb⋅Ya + 2\n",
       "───────────────────────────────────────── - ──────────────────────────────────\n",
       "                                                                              \n",
       "                                                                              \n",
       "\n",
       "                                                                              \n",
       "                                                                              \n",
       "                                                                              \n",
       "                                                                              \n",
       "              2        2        3     2           2        2         2     3  \n",
       "⋅Xa⋅Xb⋅Yb - Xb ⋅Ya - Xb ⋅Yb - Ya  + Ya ⋅Yb + Ya⋅Yb  + Ya⋅l₂  - Ya⋅l2p  - Yb  -\n",
       "──────────────────────────────────────────────────────────────────────────────\n",
       "          ⎛  2               2     2               2⎞                         \n",
       "        2⋅⎝Xa  - 2⋅Xa⋅Xb + Xb  + Ya  - 2⋅Ya⋅Yb + Yb ⎠                         \n",
       "\n",
       "                 ⎞  ⎛ ⎛                                                     ⎛ \n",
       "                 ⎟  ⎜ ⎜                                                     ⎜ \n",
       "                 ⎟  ⎜ ⎜    2     2     2     2     2      2                 ⎜╲\n",
       "                 ⎟  ⎜-⎜- Xa  + Xb  - Ya  + Yb  + l₂  - l2p  + (2⋅Ya - 2⋅Yb)⋅⎜─\n",
       "      2         2⎟  ⎜ ⎜                                                     ⎜ \n",
       " Yb⋅l₂  + Yb⋅l2p ⎟  ⎜ ⎝                                                     ⎝ \n",
       "─────────────────⎟, ⎜─────────────────────────────────────────────────────────\n",
       "                 ⎟  ⎜                                                         \n",
       "                 ⎠  ⎝                                                         \n",
       "\n",
       "  ____________________________________________________________________________\n",
       " ╱  ⎛    2               2     2               2     2                 2⎞ ⎛   \n",
       "╱  -⎝- Xa  + 2⋅Xa⋅Xb - Xb  - Ya  + 2⋅Ya⋅Yb - Yb  + l₂  - 2⋅l₂⋅l2p + l2p ⎠⋅⎝- X\n",
       "──────────────────────────────────────────────────────────────────────────────\n",
       "                                                        ⎛  2               2  \n",
       "                                                      2⋅⎝Xa  - 2⋅Xa⋅Xb + Xb  +\n",
       "──────────────────────────────────────────────────────────────────────────────\n",
       "                                                                              \n",
       "                                                                              \n",
       "\n",
       "__________________________________________________________________            \n",
       " 2               2     2               2     2                 2⎞             \n",
       "a  + 2⋅Xa⋅Xb - Xb  - Ya  + 2⋅Ya⋅Yb - Yb  + l₂  + 2⋅l₂⋅l2p + l2p ⎠ ⋅(Xa - Xb)  \n",
       "──────────────────────────────────────────────────────────────────────────── -\n",
       "   2               2⎞                                                         \n",
       " Ya  - 2⋅Ya⋅Yb + Yb ⎠                                                         \n",
       "──────────────────────────────────────────────────────────────────────────────\n",
       "                                2⋅(Xa - Xb)                                   \n",
       "                                                                              \n",
       "\n",
       "                                                                              \n",
       "     2        2                                  2        2        3     2    \n",
       " - Xa ⋅Ya - Xa ⋅Yb + 2⋅Xa⋅Xb⋅Ya + 2⋅Xa⋅Xb⋅Yb - Xb ⋅Ya - Xb ⋅Yb - Ya  + Ya ⋅Yb \n",
       " ─────────────────────────────────────────────────────────────────────────────\n",
       "                                             ⎛  2               2     2       \n",
       "                                           2⋅⎝Xa  - 2⋅Xa⋅Xb + Xb  + Ya  - 2⋅Ya\n",
       "──────────────────────────────────────────────────────────────────────────────\n",
       "                                                                              \n",
       "                                                                              \n",
       "\n",
       "                                                    ⎞⎞                        \n",
       "       2        2         2     3        2         2⎟⎟                        \n",
       "+ Ya⋅Yb  + Ya⋅l₂  - Ya⋅l2p  - Yb  - Yb⋅l₂  + Yb⋅l2p ⎟⎟                        \n",
       "────────────────────────────────────────────────────⎟⎟      __________________\n",
       "        2⎞                                          ⎟⎟     ╱  ⎛    2          \n",
       "⋅Yb + Yb ⎠                                          ⎠⎠   ╲╱  -⎝- Xa  + 2⋅Xa⋅Xb\n",
       "───────────────────────────────────────────────────────, ─────────────────────\n",
       "                                                                              \n",
       "                                                                              \n",
       "\n",
       "                                                                              \n",
       "                                                                              \n",
       "                                                                              \n",
       "______________________________________________________________________________\n",
       "     2     2               2     2                 2⎞ ⎛    2               2  \n",
       " - Xb  - Ya  + 2⋅Ya⋅Yb - Yb  + l₂  - 2⋅l₂⋅l2p + l2p ⎠⋅⎝- Xa  + 2⋅Xa⋅Xb - Xb  -\n",
       "──────────────────────────────────────────────────────────────────────────────\n",
       "                                    ⎛  2               2     2               2\n",
       "                                  2⋅⎝Xa  - 2⋅Xa⋅Xb + Xb  + Ya  - 2⋅Ya⋅Yb + Yb \n",
       "\n",
       "                                                                              \n",
       "                                                                              \n",
       "                                                                              \n",
       "______________________________________________                                \n",
       "   2               2     2                 2⎞                  2        2     \n",
       " Ya  + 2⋅Ya⋅Yb - Yb  + l₂  + 2⋅l₂⋅l2p + l2p ⎠ ⋅(Xa - Xb)   - Xa ⋅Ya - Xa ⋅Yb +\n",
       "──────────────────────────────────────────────────────── - ───────────────────\n",
       "⎞                                                                             \n",
       "⎠                                                                             \n",
       "\n",
       "                                                                              \n",
       "                                                                              \n",
       "                                                                              \n",
       "                                                                              \n",
       "                             2        2        3     2           2        2   \n",
       " 2⋅Xa⋅Xb⋅Ya + 2⋅Xa⋅Xb⋅Yb - Xb ⋅Ya - Xb ⋅Yb - Ya  + Ya ⋅Yb + Ya⋅Yb  + Ya⋅l₂  - \n",
       "──────────────────────────────────────────────────────────────────────────────\n",
       "                         ⎛  2               2     2               2⎞          \n",
       "                       2⋅⎝Xa  - 2⋅Xa⋅Xb + Xb  + Ya  - 2⋅Ya⋅Yb + Yb ⎠          \n",
       "\n",
       "                                ⎞⎤\n",
       "                                ⎟⎥\n",
       "                                ⎟⎥\n",
       "                                ⎟⎥\n",
       "      2     3        2         2⎟⎥\n",
       "Ya⋅l2p  - Yb  - Yb⋅l₂  + Yb⋅l2p ⎟⎥\n",
       "────────────────────────────────⎟⎥\n",
       "                                ⎟⎥\n",
       "                                ⎠⎦"
      ]
     },
     "execution_count": 89,
     "metadata": {},
     "output_type": "execute_result"
    }
   ],
   "source": [
    "Eq5 = sym.Eq( l2**2, (X - Xa)**2+(Y - Ya)**2)\n",
    "Eq6 = sym.Eq(l2p**2, (X - Xb)**2+(Y - Yb)**2)\n",
    "\n",
    "sym.solve([Eq5,Eq6], (X,Y))"
   ]
  },
  {
   "cell_type": "markdown",
   "metadata": {},
   "source": [
    "This pure algebraic solution looks overly complicated. Luckily, it becomes much more manageable once we plug in all known values."
   ]
  },
  {
   "cell_type": "code",
   "execution_count": 92,
   "metadata": {},
   "outputs": [
    {
     "name": "stdout",
     "output_type": "stream",
     "text": [
      "37.68 17.68 -12.50 21.65\n"
     ]
    }
   ],
   "source": [
    "# Input known values here\n",
    "q1  = 45\n",
    "q2  = 120\n",
    "d   = 20\n",
    "l1  = 25\n",
    "l1p = 25\n",
    "l2  = 35\n",
    "l2p = 35\n",
    "\n",
    "# Convert deg to rad\n",
    "q1 = q1 * math.pi / 180\n",
    "q2 = q2 * math.pi / 180\n",
    "\n",
    "Eq1 = sym.Eq(d+l1*sym.cos(q1), Xa)\n",
    "Eq2 = sym.Eq(  l1*sym.sin(q1), Ya)\n",
    "Eq3 = sym.Eq( l1p*sym.cos(q2), Xb)\n",
    "Eq4 = sym.Eq( l1p*sym.sin(q2), Yb)\n",
    "soln_1 = sym.solve([Eq1,Eq2,Eq3,Eq4], (Xa,Ya,Xb,Yb))\n",
    "\n",
    "Xa, Ya, Xb, Yb = round(soln_1[Xa],2), round(soln_1[Ya],2), round(soln_1[Xb],2), round(soln_1[Yb],2)\n",
    "print(Xa, Ya, Xb, Yb)"
   ]
  },
  {
   "cell_type": "code",
   "execution_count": 94,
   "metadata": {},
   "outputs": [
    {
     "name": "stdout",
     "output_type": "stream",
     "text": [
      "[(10.6733246744563, -4.58026509751920), (14.5087365749702, 43.9104030658175)]\n"
     ]
    }
   ],
   "source": [
    "Eq7 = sym.Eq( l2**2, (X - Xa)**2 + (Y - Ya)**2)\n",
    "Eq8 = sym.Eq(l2p**2, (X - Xb)**2 + (Y - Yb)**2)\n",
    "\n",
    "soln_2 = sym.solve([Eq7,Eq8], (X,Y))\n",
    "print(soln_2)"
   ]
  },
  {
   "cell_type": "markdown",
   "metadata": {},
   "source": [
    "This takes about 10 seconds. Not ideal. Let's try to optimize. By using scipy instead of sympy, we can solve the same equation much faster."
   ]
  },
  {
   "cell_type": "code",
   "execution_count": 18,
   "metadata": {},
   "outputs": [
    {
     "name": "stdout",
     "output_type": "stream",
     "text": [
      "7.217825557905917 44.63778861393392\n"
     ]
    }
   ],
   "source": [
    "import math\n",
    "import numpy as np\n",
    "from scipy.optimize import fsolve\n",
    "\n",
    "# Input known values here\n",
    "q1  = 57.2\n",
    "q2  = 131.1\n",
    "d   = 19.5\n",
    "l1  = 25\n",
    "l1p = 25\n",
    "l2  = 35\n",
    "l2p = 35\n",
    "\n",
    "# Convert deg to rad\n",
    "q1 = q1 * math.pi / 180\n",
    "q2 = q2 * math.pi / 180\n",
    "\n",
    "# Using scipy's fsolve, which is known to be faster at this type of calculation\n",
    "def func(x, *angle):\n",
    "    Q1, Q2 = angle\n",
    "    Xa = l1 * math.cos(Q1) + d\n",
    "    Ya = l1 * math.sin(Q1)\n",
    "    Xb = l1p * math.cos(Q2)\n",
    "    Yb = l1p * math.sin(Q2)\n",
    "    return [x[0]*x[0] - 2*x[0]*Xa + Xa**2 + x[1]*x[1] - 2*x[1]*Ya + Ya**2 - l2*l2,\n",
    "            x[0]*x[0] - 2*x[0]*Xb + Xb**2 + x[1]*x[1] - 2*x[1]*Yb + Yb**2 - l2p*l2p]\n",
    "\n",
    "angle = (q1, q2)\n",
    "x, y = fsolve(func, [10, 60], args=angle)\n",
    "print(x, y)"
   ]
  },
  {
   "cell_type": "markdown",
   "metadata": {},
   "source": [
    "This is great! However, keep in mind that if we ever need to run this with cpp on a microcontroller, we won't be able to use these fancy libraries. Therefore, it will be best if we can represent the coordinate of point C in an agregated expression.\n",
    "\n",
    "http://ambrnet.com/TrigoCalc/Circles2/circle2intersection/CircleCircleIntersection.htm"
   ]
  }
 ],
 "metadata": {
  "kernelspec": {
   "display_name": "venv",
   "language": "python",
   "name": "python3"
  },
  "language_info": {
   "codemirror_mode": {
    "name": "ipython",
    "version": 3
   },
   "file_extension": ".py",
   "mimetype": "text/x-python",
   "name": "python",
   "nbconvert_exporter": "python",
   "pygments_lexer": "ipython3",
   "version": "3.11.6"
  }
 },
 "nbformat": 4,
 "nbformat_minor": 2
}
