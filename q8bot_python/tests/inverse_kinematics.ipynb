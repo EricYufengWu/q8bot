{
 "cells": [
  {
   "cell_type": "code",
   "execution_count": 1,
   "metadata": {},
   "outputs": [],
   "source": [
    "import math\n",
    "import numpy as np\n",
    "from scipy.optimize import fsolve"
   ]
  },
  {
   "cell_type": "markdown",
   "metadata": {},
   "source": [
    "<div>\n",
    "<img src=\"../docs/IK_diagram_1.jpg\" width=\"540\"/>\n",
    "</div>"
   ]
  },
  {
   "cell_type": "markdown",
   "metadata": {},
   "source": [
    "For inverse kinematics, we have the x, y coordinates of point C and need the value of q1 and q2. To do that, we need to find α1, α2, β1, β2 separately.\n",
    "\n",
    "First, we canculate the distance between two points in the xy plance to get c1 and c2:\n",
    "\n",
    "$c_1 = \\sqrt{(x - x_D)^2 + (y - y_D)^2}$\n",
    "\n",
    "$c_1 = \\sqrt{(x - d)^2 + y^2}$    &emsp;&emsp;&emsp;&emsp;&emsp;&emsp;&emsp;(1)\n",
    "\n",
    "$c_2 = \\sqrt{(x - x_O)^2 + (y - y_O)^2}$\n",
    "\n",
    "$c_2 = \\sqrt{x^2 + y^2}$    &emsp;&emsp;&emsp;&emsp;&emsp;&emsp;&emsp;&emsp;&emsp;&emsp;(2)"
   ]
  },
  {
   "cell_type": "code",
   "execution_count": 24,
   "metadata": {},
   "outputs": [
    {
     "data": {
      "text/plain": [
       "(46.29825050690361, 45.22010614759767)"
      ]
     },
     "execution_count": 24,
     "metadata": {},
     "output_type": "execute_result"
    }
   ],
   "source": [
    "x   = 7.22\n",
    "y   = 44.64\n",
    "d   = 19.5\n",
    "l1  = 25\n",
    "l1p = 25\n",
    "l2  = 35\n",
    "l2p = 35\n",
    "\n",
    "c1 = math.sqrt((x - d)**2 + y**2)\n",
    "c2 = math.sqrt(x**2 + y**2)\n",
    "\n",
    "c1, c2"
   ]
  },
  {
   "cell_type": "markdown",
   "metadata": {},
   "source": [
    "With c1, c2, and d known, we can use the law of cosines to calculate α1 and α2.\n",
    "\n",
    "$c_2^2 = c_1^2 + d^2 - 2c_1d\\cdot cos(α_1)$\n",
    "\n",
    "$α_1 = cos^{-1}({c_1^2 + d^2 - c_2^2 \\over 2c_1d})$ &emsp;&emsp;&emsp;&emsp;&emsp;&emsp;&emsp;&emsp;(3)\n",
    "\n",
    "$c_1^2 = c_2^2 + d^2 - 2c_2d\\cdot cos(α_2)$\n",
    "\n",
    "$α_2 = cos^{-1}({c_2^2 + d^2 - c_1^2 \\over 2c_2d})$ &emsp;&emsp;&emsp;&emsp;&emsp;&emsp;&emsp;&emsp;(4)"
   ]
  },
  {
   "cell_type": "code",
   "execution_count": 25,
   "metadata": {},
   "outputs": [
    {
     "data": {
      "text/plain": [
       "(74.61897579331468, 80.81263543167834)"
      ]
     },
     "execution_count": 25,
     "metadata": {},
     "output_type": "execute_result"
    }
   ],
   "source": [
    "a1 = math.acos((c1**2 + d**2 - c2**2) / (2*c1*d))\n",
    "a2 = math.acos((c2**2 + d**2 - c1**2) / (2*c2*d))\n",
    "\n",
    "a1, a2 = a1*180/math.pi, a2*180/math.pi\n",
    "\n",
    "a1, a2"
   ]
  },
  {
   "cell_type": "markdown",
   "metadata": {},
   "source": [
    "With l1/l1', l2/l2', and c1/c2 known, we can use the law of consines to calculate β1 and β2.\n",
    "\n",
    "$l_2^2 = c_1^2 + l_1^2 - 2c_1l_1\\cdot cos(β_1)$\n",
    "\n",
    "$β_1 = cos^{-1}({c_1^2 + l_1^2 - l_2^2 \\over 2c_1l_1})$ &emsp;&emsp;&emsp;&emsp;&emsp;&emsp;&emsp;&emsp;(5)\n",
    "\n",
    "$l_2^{'2} = c_2^2 + l_1^{'2} - 2c_2l_1^{'}\\cdot cos(β_2)$\n",
    "\n",
    "$β_2 = cos^{-1}({c_2^2 + l_1^{'2} - l_2^{'2} \\over 2c_2l_1^{'}})$ &emsp;&emsp;&emsp;&emsp;&emsp;&emsp;&emsp;&ensp;(6)"
   ]
  },
  {
   "cell_type": "code",
   "execution_count": 26,
   "metadata": {},
   "outputs": [
    {
     "data": {
      "text/plain": [
       "(48.18128384670499, 50.2802167241664)"
      ]
     },
     "execution_count": 26,
     "metadata": {},
     "output_type": "execute_result"
    }
   ],
   "source": [
    "b1 = math.acos((c1**2 + l1**2 - l2**2) / (2*c1*l1))\n",
    "b2 = math.acos((c2**2 + l1p**2 - l2p**2) / (2*c2*l1p))\n",
    "\n",
    "b1, b2 = b1*180/math.pi, b2*180/math.pi\n",
    "\n",
    "b1, b2"
   ]
  },
  {
   "cell_type": "markdown",
   "metadata": {},
   "source": [
    "<div>\n",
    "<img src=\"../docs/IK_diagram_2.jpg\" width=\"540\"/>\n",
    "</div>"
   ]
  },
  {
   "cell_type": "markdown",
   "metadata": {},
   "source": [
    "For a five-bar linkage, there are typically 4 possible leg positions for given x, y coordinates of the end effector. For our connfiguration, we will only be consitering the \"++ scenario\".\n",
    "\n",
    "In the \"++\" scenario, q1 and q2 can be calculated from α1, α2, β1, and β2.\n",
    "\n",
    "$q_1 = 180^{\\circ} - α_1 - β_1$\n",
    "\n",
    "$q_2 = α_2 + β_2$"
   ]
  },
  {
   "cell_type": "code",
   "execution_count": 27,
   "metadata": {},
   "outputs": [
    {
     "data": {
      "text/plain": [
       "(57.19974035998033, 131.09285215584475)"
      ]
     },
     "execution_count": 27,
     "metadata": {},
     "output_type": "execute_result"
    }
   ],
   "source": [
    "q1 = 180 - a1 - b1\n",
    "q2 = a2 + b2\n",
    "\n",
    "q1, q2"
   ]
  },
  {
   "cell_type": "markdown",
   "metadata": {},
   "source": [
    "The final IK calculation, in a condensed form:"
   ]
  },
  {
   "cell_type": "code",
   "execution_count": 41,
   "metadata": {},
   "outputs": [
    {
     "name": "stdout",
     "output_type": "stream",
     "text": [
      "q1 = 57.20    q2 = 131.09\n"
     ]
    }
   ],
   "source": [
    "import math\n",
    "\n",
    "# Input known values here\n",
    "x   = 7.22\n",
    "y   = 44.64\n",
    "d   = 19.5\n",
    "l1  = 25\n",
    "l1p = 25\n",
    "l2  = 35\n",
    "l2p = 35\n",
    "\n",
    "# Input validation function\n",
    "def IK_validate():\n",
    "    return\n",
    "\n",
    "# Calculation\n",
    "c1 = math.sqrt((x - d)**2 + y**2)\n",
    "c2 = math.sqrt(x**2 + y**2)\n",
    "a1 = math.acos((c1**2 + d**2 - c2**2) / (2*c1*d))\n",
    "a2 = math.acos((c2**2 + d**2 - c1**2) / (2*c2*d))\n",
    "b1 = math.acos((c1**2 + l1**2 - l2**2) / (2*c1*l1))\n",
    "b2 = math.acos((c2**2 + l1p**2 - l2p**2) / (2*c2*l1p))\n",
    "q1 = math.pi - a1 - b1\n",
    "q2 = a2 + b2\n",
    "\n",
    "# Convert rad to deg\n",
    "q1, q2 = q1*180/math.pi, q2*180/math.pi\n",
    "\n",
    "# Pring calculated values\n",
    "print(\"q1 = %.2f    q2 = %.2f\" % (q1, q2))"
   ]
  }
 ],
 "metadata": {
  "kernelspec": {
   "display_name": "venv",
   "language": "python",
   "name": "python3"
  },
  "language_info": {
   "codemirror_mode": {
    "name": "ipython",
    "version": 3
   },
   "file_extension": ".py",
   "mimetype": "text/x-python",
   "name": "python",
   "nbconvert_exporter": "python",
   "pygments_lexer": "ipython3",
   "version": "3.11.6"
  }
 },
 "nbformat": 4,
 "nbformat_minor": 2
}
